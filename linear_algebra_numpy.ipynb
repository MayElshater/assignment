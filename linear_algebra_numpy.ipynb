{
  "cells": [
    {
      "cell_type": "markdown",
      "metadata": {
        "id": "DunfKkYTFaUH"
      },
      "source": [
        "## Write a Numpy program to compute the multiplication of two given matrixes"
      ]
    },
    {
      "cell_type": "code",
      "execution_count": 1,
      "metadata": {
        "id": "enyds_CSFaUM"
      },
      "outputs": [],
      "source": [
        "import numpy as np"
      ]
    },
    {
      "cell_type": "code",
      "execution_count": 2,
      "metadata": {
        "colab": {
          "base_uri": "https://localhost:8080/"
        },
        "id": "kD8SffiiFaUO",
        "outputId": "38d17b6b-55ee-4d24-d043-9cb3da7bedd5"
      },
      "outputs": [
        {
          "output_type": "stream",
          "name": "stdout",
          "text": [
            "[[1 4 9]\n",
            " [1 4 9]]\n"
          ]
        }
      ],
      "source": [
        "arr1=np.array([[1,2,3],\n",
        "               [1,2,3]])\n",
        "\n",
        "arr2=np.array([[1,2,3],\n",
        "               [1,2,3]])\n",
        "print(arr1*arr2)"
      ]
    },
    {
      "cell_type": "code",
      "source": [
        "arr1=np.array([[1,2],\n",
        "               [1,2]])\n",
        "\n",
        "arr2=np.array([[1,2],\n",
        "               [1,2]])\n",
        "\n",
        "print(arr1.dot(arr2))"
      ],
      "metadata": {
        "colab": {
          "base_uri": "https://localhost:8080/"
        },
        "id": "3sTGAJaoG8JK",
        "outputId": "b67b8824-ce10-4160-8e22-f326f355125d"
      },
      "execution_count": 3,
      "outputs": [
        {
          "output_type": "stream",
          "name": "stdout",
          "text": [
            "[[3 6]\n",
            " [3 6]]\n"
          ]
        }
      ]
    },
    {
      "cell_type": "markdown",
      "metadata": {
        "id": "TOpEDRJqFaUP"
      },
      "source": [
        "## Write a NumPy program to compute the determinant of a given square array"
      ]
    },
    {
      "cell_type": "code",
      "execution_count": 4,
      "metadata": {
        "colab": {
          "base_uri": "https://localhost:8080/"
        },
        "id": "SCqAlSUZFaUP",
        "outputId": "35b1b34e-0512-42ce-bd42-c98f684151d8"
      },
      "outputs": [
        {
          "output_type": "execute_result",
          "data": {
            "text/plain": [
              "8.99999999999997"
            ]
          },
          "metadata": {},
          "execution_count": 4
        }
      ],
      "source": [
        "arr = np.array([[1,4,5],\n",
        "                [5,1,3],\n",
        "                [1,7,8]])\n",
        "res=np.linalg.det(arr)\n",
        "res"
      ]
    },
    {
      "cell_type": "code",
      "execution_count": null,
      "metadata": {
        "id": "rl0tbD0pFaUQ"
      },
      "outputs": [],
      "source": []
    },
    {
      "cell_type": "markdown",
      "metadata": {
        "id": "CyG5f8arFaUQ"
      },
      "source": [
        "## Write a NumPy program to compute the cross product of two given vectors"
      ]
    },
    {
      "cell_type": "code",
      "execution_count": 6,
      "metadata": {
        "colab": {
          "base_uri": "https://localhost:8080/"
        },
        "id": "6Qlw8RoJFaUR",
        "outputId": "60323a4e-16a3-46aa-8a77-9fd235e2ab0c"
      },
      "outputs": [
        {
          "output_type": "execute_result",
          "data": {
            "text/plain": [
              "array(11)"
            ]
          },
          "metadata": {},
          "execution_count": 6
        }
      ],
      "source": [
        "v1=np.array([2,3])\n",
        "v2=np.array([1,7])\n",
        "res = np.cross(v1,v2)\n",
        "res"
      ]
    },
    {
      "cell_type": "code",
      "execution_count": null,
      "metadata": {
        "id": "-2xR2n3FFaUR"
      },
      "outputs": [],
      "source": []
    },
    {
      "cell_type": "markdown",
      "metadata": {
        "id": "EvV_ADUoFaUR"
      },
      "source": [
        "## Write a NumPy program to compute the condition number of a given matrix"
      ]
    },
    {
      "cell_type": "code",
      "execution_count": 12,
      "metadata": {
        "colab": {
          "base_uri": "https://localhost:8080/"
        },
        "id": "zdexV-nrFaUS",
        "outputId": "590608f8-9d00-494b-ce0e-fb1f2d7042a8"
      },
      "outputs": [
        {
          "output_type": "execute_result",
          "data": {
            "text/plain": [
              "5.546994935117353"
            ]
          },
          "metadata": {},
          "execution_count": 12
        }
      ],
      "source": [
        "arr=np.array([[2,3],\n",
        "              [1,7]])\n",
        "np.linalg.cond(arr)"
      ]
    },
    {
      "cell_type": "code",
      "execution_count": null,
      "metadata": {
        "id": "Li5k8pbpFaUS"
      },
      "outputs": [],
      "source": []
    },
    {
      "cell_type": "markdown",
      "metadata": {
        "id": "7i3L3hJFFaUT"
      },
      "source": [
        "## Write a NumPy program to compute the inverse of a given matrix"
      ]
    },
    {
      "cell_type": "code",
      "execution_count": 11,
      "metadata": {
        "colab": {
          "base_uri": "https://localhost:8080/"
        },
        "id": "dyNA-JaaFaUT",
        "outputId": "80b56542-59ec-48d7-baf0-0ee6d287c489"
      },
      "outputs": [
        {
          "output_type": "execute_result",
          "data": {
            "text/plain": [
              "array([[ 0.63636364, -0.27272727],\n",
              "       [-0.09090909,  0.18181818]])"
            ]
          },
          "metadata": {},
          "execution_count": 11
        }
      ],
      "source": [
        "arr=np.array([[2,3],\n",
        "              [1,7]])\n",
        "res=np.linalg.inv(arr)\n",
        "res"
      ]
    },
    {
      "cell_type": "code",
      "execution_count": null,
      "metadata": {
        "id": "qIsZjaXUFaUT"
      },
      "outputs": [],
      "source": []
    },
    {
      "cell_type": "code",
      "execution_count": null,
      "metadata": {
        "id": "JowqMT2XFaUU"
      },
      "outputs": [],
      "source": []
    }
  ],
  "metadata": {
    "kernelspec": {
      "display_name": "Python 3",
      "language": "python",
      "name": "python3"
    },
    "language_info": {
      "codemirror_mode": {
        "name": "ipython",
        "version": 3
      },
      "file_extension": ".py",
      "mimetype": "text/x-python",
      "name": "python",
      "nbconvert_exporter": "python",
      "pygments_lexer": "ipython3",
      "version": "3.7.3"
    },
    "colab": {
      "provenance": []
    }
  },
  "nbformat": 4,
  "nbformat_minor": 0
}